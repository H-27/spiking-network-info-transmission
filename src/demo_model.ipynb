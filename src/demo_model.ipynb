{
 "cells": [
  {
   "cell_type": "markdown",
   "id": "4d204509",
   "metadata": {},
   "source": [
    "# Imports"
   ]
  },
  {
   "cell_type": "code",
   "execution_count": null,
   "id": "9ce1edde",
   "metadata": {},
   "outputs": [],
   "source": [
    "import numpy as np\n",
    "import matplotlib.pyplot as plt\n",
    "import torch\n",
    "\n",
    "from bindsnet.network import Network\n",
    "from bindsnet.network.nodes import LIFNodes, AdaptiveLIFNodes\n",
    "from bindsnet.network.monitors import Monitor"
   ]
  }
 ],
 "metadata": {
  "kernelspec": {
   "display_name": "spiking-network-info-transmission (3.12.9)",
   "language": "python",
   "name": "python3"
  },
  "language_info": {
   "name": "python",
   "version": "3.12.9"
  }
 },
 "nbformat": 4,
 "nbformat_minor": 5
}
