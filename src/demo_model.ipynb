{
 "cells": [
  {
   "cell_type": "markdown",
   "id": "4d204509",
   "metadata": {},
   "source": [
    "# Imports"
   ]
  },
  {
   "cell_type": "code",
   "execution_count": 4,
   "id": "9ce1edde",
   "metadata": {},
   "outputs": [],
   "source": [
    "import numpy as np\n",
    "import matplotlib.pyplot as plt\n",
    "import torch\n",
    "\n",
    "from bindsnet.network import Network\n",
    "from bindsnet.network.nodes import LIFNodes, AdaptiveLIFNodes, Input\n",
    "from bindsnet.network.monitors import Monitor"
   ]
  },
  {
   "cell_type": "markdown",
   "id": "17904b84",
   "metadata": {},
   "source": [
    "# Small test network"
   ]
  },
  {
   "cell_type": "code",
   "execution_count": 6,
   "id": "7f812984",
   "metadata": {},
   "outputs": [
    {
     "name": "stdout",
     "output_type": "stream",
     "text": [
      "tensor([[0, 0, 0,  ..., 0, 0, 0],\n",
      "        [0, 0, 0,  ..., 0, 0, 0],\n",
      "        [0, 1, 0,  ..., 0, 0, 0],\n",
      "        ...,\n",
      "        [0, 0, 1,  ..., 0, 0, 0],\n",
      "        [0, 0, 1,  ..., 0, 0, 0],\n",
      "        [0, 0, 0,  ..., 0, 0, 0]], dtype=torch.uint8)\n"
     ]
    }
   ],
   "source": [
    "time = 500\n",
    "source_layer = Input(n=100)\n",
    "input_data = torch.bernoulli(0.1 * torch.ones(time, source_layer.n)).byte()\n",
    "print(input_data)"
   ]
  }
 ],
 "metadata": {
  "kernelspec": {
   "display_name": "spiking-network-info-transmission (3.12.9)",
   "language": "python",
   "name": "python3"
  },
  "language_info": {
   "codemirror_mode": {
    "name": "ipython",
    "version": 3
   },
   "file_extension": ".py",
   "mimetype": "text/x-python",
   "name": "python",
   "nbconvert_exporter": "python",
   "pygments_lexer": "ipython3",
   "version": "3.12.9"
  }
 },
 "nbformat": 4,
 "nbformat_minor": 5
}
