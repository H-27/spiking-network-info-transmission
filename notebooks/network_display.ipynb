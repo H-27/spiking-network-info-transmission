{
 "cells": [
  {
   "cell_type": "markdown",
   "id": "701a4079",
   "metadata": {},
   "source": [
    "# Imports"
   ]
  },
  {
   "cell_type": "code",
   "execution_count": 3,
   "id": "9c6ef02e",
   "metadata": {},
   "outputs": [
    {
     "name": "stdout",
     "output_type": "stream",
     "text": [
      "Loaded config from c:\\Users\\Work\\VSCodeProjects\\spiking-network-info-transmission\\configs\\baseline_lif.json\n"
     ]
    }
   ],
   "source": [
    "import os, sys, json\n",
    "\n",
    "# Determine project root (parent of notebooks directory)\n",
    "current_dir = os.path.abspath(os.getcwd())\n",
    "# If running from project root, notebooks/ may not be in path; handle both cases\n",
    "if os.path.basename(current_dir).lower() == \"notebooks\":\n",
    "    project_root = os.path.abspath(os.path.join(current_dir, \"..\"))\n",
    "else:\n",
    "    # Assume we launched from project root already\n",
    "    project_root = current_dir\n",
    "\n",
    "src_path = os.path.join(project_root, \"src\")\n",
    "if src_path not in sys.path:\n",
    "    sys.path.insert(0, src_path)\n",
    "\n",
    "try:\n",
    "    from networks import SpikingNetwork\n",
    "except ModuleNotFoundError as e:\n",
    "    raise RuntimeError(f\"Failed to import SpikingNetwork from {src_path}: {e}\")\n",
    "try:\n",
    "    from connections import *\n",
    "except ModuleNotFoundError as e:\n",
    "    raise RuntimeError(f\"Failed to import connections from {src_path}: {e}\")\n",
    "\n",
    "# Load config file robustly\n",
    "config_path = os.path.join(project_root, \"configs\", \"baseline_lif.json\")\n",
    "with open(config_path, \"r\") as f:\n",
    "    config = json.load(f)\n",
    "print(\"Loaded config from\", config_path)"
   ]
  },
  {
   "cell_type": "markdown",
   "id": "aa4cf0bb",
   "metadata": {},
   "source": [
    "# Create weight matrices & network"
   ]
  },
  {
   "cell_type": "code",
   "execution_count": 4,
   "id": "da1d57ad",
   "metadata": {},
   "outputs": [
    {
     "ename": "AssertionError",
     "evalue": "Must provide either no. of neurons or shape of layer",
     "output_type": "error",
     "traceback": [
      "\u001b[31m---------------------------------------------------------------------------\u001b[39m",
      "\u001b[31mAssertionError\u001b[39m                            Traceback (most recent call last)",
      "\u001b[36mCell\u001b[39m\u001b[36m \u001b[39m\u001b[32mIn[4]\u001b[39m\u001b[32m, line 1\u001b[39m\n\u001b[32m----> \u001b[39m\u001b[32m1\u001b[39m net = \u001b[43mSpikingNetwork\u001b[49m\u001b[43m(\u001b[49m\u001b[43mconfig\u001b[49m\u001b[43m)\u001b[49m\n\u001b[32m      2\u001b[39m ff1 = connections.connect_distance(config[\u001b[33m\"\u001b[39m\u001b[33mn_inputs\u001b[39m\u001b[33m\"\u001b[39m], config[\u001b[33m\"\u001b[39m\u001b[33mn_layer_one\u001b[39m\u001b[33m\"\u001b[39m])\n\u001b[32m      3\u001b[39m ff2 = connections.connect_distance(config[\u001b[33m\"\u001b[39m\u001b[33mn_layer_one\u001b[39m\u001b[33m\"\u001b[39m], config[\u001b[33m\"\u001b[39m\u001b[33mn_layer_two\u001b[39m\u001b[33m\"\u001b[39m])\n",
      "\u001b[36mFile \u001b[39m\u001b[32mc:\\Users\\Work\\VSCodeProjects\\spiking-network-info-transmission\\src\\networks.py:32\u001b[39m, in \u001b[36mSpikingNetwork.__init__\u001b[39m\u001b[34m(self, config)\u001b[39m\n\u001b[32m     30\u001b[39m \u001b[38;5;28;01mif\u001b[39;00m \u001b[38;5;28mself\u001b[39m.node_type == \u001b[33m\"\u001b[39m\u001b[33mLIF\u001b[39m\u001b[33m\"\u001b[39m:\n\u001b[32m     31\u001b[39m     \u001b[38;5;28mself\u001b[39m.node_params = config[\u001b[33m\"\u001b[39m\u001b[33mlif_params\u001b[39m\u001b[33m\"\u001b[39m]\n\u001b[32m---> \u001b[39m\u001b[32m32\u001b[39m     \u001b[38;5;28mself\u001b[39m.node_class = \u001b[43mLIFNodes\u001b[49m\u001b[43m(\u001b[49m\u001b[43m)\u001b[49m\n\u001b[32m     33\u001b[39m \u001b[38;5;28;01melif\u001b[39;00m \u001b[38;5;28mself\u001b[39m.node_type == \u001b[33m\"\u001b[39m\u001b[33mAdaptiveLIF\u001b[39m\u001b[33m\"\u001b[39m:\n\u001b[32m     34\u001b[39m     \u001b[38;5;28mself\u001b[39m.node_params = config[\u001b[33m\"\u001b[39m\u001b[33madaptive_lif_params\u001b[39m\u001b[33m\"\u001b[39m]\n",
      "\u001b[36mFile \u001b[39m\u001b[32mc:\\Users\\Work\\VSCodeProjects\\spiking-network-info-transmission\\.venv\\Lib\\site-packages\\bindsnet\\network\\nodes.py:460\u001b[39m, in \u001b[36mLIFNodes.__init__\u001b[39m\u001b[34m(self, n, shape, traces, traces_additive, tc_trace, trace_scale, sum_input, thresh, rest, reset, refrac, tc_decay, lbound, **kwargs)\u001b[39m\n\u001b[32m    425\u001b[39m \u001b[38;5;28;01mdef\u001b[39;00m\u001b[38;5;250m \u001b[39m\u001b[34m__init__\u001b[39m(\n\u001b[32m    426\u001b[39m     \u001b[38;5;28mself\u001b[39m,\n\u001b[32m    427\u001b[39m     n: Optional[\u001b[38;5;28mint\u001b[39m] = \u001b[38;5;28;01mNone\u001b[39;00m,\n\u001b[32m   (...)\u001b[39m\u001b[32m    441\u001b[39m ) -> \u001b[38;5;28;01mNone\u001b[39;00m:\n\u001b[32m    442\u001b[39m     \u001b[38;5;66;03m# language=rst\u001b[39;00m\n\u001b[32m    443\u001b[39m \u001b[38;5;250m    \u001b[39m\u001b[33;03m\"\"\"\u001b[39;00m\n\u001b[32m    444\u001b[39m \u001b[33;03m    Instantiates a layer of LIF neurons.\u001b[39;00m\n\u001b[32m    445\u001b[39m \n\u001b[32m   (...)\u001b[39m\u001b[32m    458\u001b[39m \u001b[33;03m    :param lbound: Lower bound of the voltage.\u001b[39;00m\n\u001b[32m    459\u001b[39m \u001b[33;03m    \"\"\"\u001b[39;00m\n\u001b[32m--> \u001b[39m\u001b[32m460\u001b[39m     \u001b[38;5;28;43msuper\u001b[39;49m\u001b[43m(\u001b[49m\u001b[43m)\u001b[49m\u001b[43m.\u001b[49m\u001b[34;43m__init__\u001b[39;49m\u001b[43m(\u001b[49m\n\u001b[32m    461\u001b[39m \u001b[43m        \u001b[49m\u001b[43mn\u001b[49m\u001b[43m=\u001b[49m\u001b[43mn\u001b[49m\u001b[43m,\u001b[49m\n\u001b[32m    462\u001b[39m \u001b[43m        \u001b[49m\u001b[43mshape\u001b[49m\u001b[43m=\u001b[49m\u001b[43mshape\u001b[49m\u001b[43m,\u001b[49m\n\u001b[32m    463\u001b[39m \u001b[43m        \u001b[49m\u001b[43mtraces\u001b[49m\u001b[43m=\u001b[49m\u001b[43mtraces\u001b[49m\u001b[43m,\u001b[49m\n\u001b[32m    464\u001b[39m \u001b[43m        \u001b[49m\u001b[43mtraces_additive\u001b[49m\u001b[43m=\u001b[49m\u001b[43mtraces_additive\u001b[49m\u001b[43m,\u001b[49m\n\u001b[32m    465\u001b[39m \u001b[43m        \u001b[49m\u001b[43mtc_trace\u001b[49m\u001b[43m=\u001b[49m\u001b[43mtc_trace\u001b[49m\u001b[43m,\u001b[49m\n\u001b[32m    466\u001b[39m \u001b[43m        \u001b[49m\u001b[43mtrace_scale\u001b[49m\u001b[43m=\u001b[49m\u001b[43mtrace_scale\u001b[49m\u001b[43m,\u001b[49m\n\u001b[32m    467\u001b[39m \u001b[43m        \u001b[49m\u001b[43msum_input\u001b[49m\u001b[43m=\u001b[49m\u001b[43msum_input\u001b[49m\u001b[43m,\u001b[49m\n\u001b[32m    468\u001b[39m \u001b[43m    \u001b[49m\u001b[43m)\u001b[49m\n\u001b[32m    470\u001b[39m     \u001b[38;5;28mself\u001b[39m.register_buffer(\n\u001b[32m    471\u001b[39m         \u001b[33m\"\u001b[39m\u001b[33mrest\u001b[39m\u001b[33m\"\u001b[39m, torch.tensor(rest, dtype=torch.float)\n\u001b[32m    472\u001b[39m     )  \u001b[38;5;66;03m# Rest voltage.\u001b[39;00m\n\u001b[32m    473\u001b[39m     \u001b[38;5;28mself\u001b[39m.register_buffer(\n\u001b[32m    474\u001b[39m         \u001b[33m\"\u001b[39m\u001b[33mreset\u001b[39m\u001b[33m\"\u001b[39m, torch.tensor(reset, dtype=torch.float)\n\u001b[32m    475\u001b[39m     )  \u001b[38;5;66;03m# Post-spike reset voltage.\u001b[39;00m\n",
      "\u001b[36mFile \u001b[39m\u001b[32mc:\\Users\\Work\\VSCodeProjects\\spiking-network-info-transmission\\.venv\\Lib\\site-packages\\bindsnet\\network\\nodes.py:43\u001b[39m, in \u001b[36mNodes.__init__\u001b[39m\u001b[34m(self, n, shape, traces, traces_additive, tc_trace, trace_scale, sum_input, learning, **kwargs)\u001b[39m\n\u001b[32m     28\u001b[39m \u001b[38;5;250m\u001b[39m\u001b[33;03m\"\"\"\u001b[39;00m\n\u001b[32m     29\u001b[39m \u001b[33;03mAbstract base class constructor.\u001b[39;00m\n\u001b[32m     30\u001b[39m \n\u001b[32m   (...)\u001b[39m\u001b[32m     38\u001b[39m \u001b[33;03m:param learning: Whether to be in learning or testing.\u001b[39;00m\n\u001b[32m     39\u001b[39m \u001b[33;03m\"\"\"\u001b[39;00m\n\u001b[32m     40\u001b[39m \u001b[38;5;28msuper\u001b[39m().\u001b[34m__init__\u001b[39m()\n\u001b[32m     42\u001b[39m \u001b[38;5;28;01massert\u001b[39;00m (\n\u001b[32m---> \u001b[39m\u001b[32m43\u001b[39m     n \u001b[38;5;129;01mis\u001b[39;00m \u001b[38;5;129;01mnot\u001b[39;00m \u001b[38;5;28;01mNone\u001b[39;00m \u001b[38;5;129;01mor\u001b[39;00m shape \u001b[38;5;129;01mis\u001b[39;00m \u001b[38;5;129;01mnot\u001b[39;00m \u001b[38;5;28;01mNone\u001b[39;00m\n\u001b[32m     44\u001b[39m ), \u001b[33m\"\u001b[39m\u001b[33mMust provide either no. of neurons or shape of layer\u001b[39m\u001b[33m\"\u001b[39m\n\u001b[32m     46\u001b[39m \u001b[38;5;28;01mif\u001b[39;00m n \u001b[38;5;129;01mis\u001b[39;00m \u001b[38;5;28;01mNone\u001b[39;00m:\n\u001b[32m     47\u001b[39m     \u001b[38;5;28mself\u001b[39m.n = reduce(mul, shape)  \u001b[38;5;66;03m# No. of neurons product of shape.\u001b[39;00m\n",
      "\u001b[31mAssertionError\u001b[39m: Must provide either no. of neurons or shape of layer"
     ]
    }
   ],
   "source": [
    "net = SpikingNetwork(config)\n",
    "ff1 = connections.connect_distance(config[\"n_inputs\"], config[\"n_layer_one\"])\n",
    "ff2 = connections.connect_distance(config[\"n_layer_one\"], config[\"n_layer_two\"])\n",
    "ff3 = connections.connect_distance(config[\"n_layer_two\"], config[\"n_outputs\"])\n",
    "rec1 = connections.create_clustered_connection_with_density(**config[\"clustered_connection_params\"])\n",
    "rec2 = connections.create_clustered_connection_with_density(**config[\"clustered_connection_params\"])\n",
    "rec3 = connections.create_clustered_connection_with_density(**config[\"clustered_connection_params\"])\n",
    "\n",
    "add_weights(self, ff1, rec1, ff2, rec2, ff3, rec3)"
   ]
  }
 ],
 "metadata": {
  "kernelspec": {
   "display_name": "spiking-network-info-transmission (3.12.9)",
   "language": "python",
   "name": "python3"
  },
  "language_info": {
   "codemirror_mode": {
    "name": "ipython",
    "version": 3
   },
   "file_extension": ".py",
   "mimetype": "text/x-python",
   "name": "python",
   "nbconvert_exporter": "python",
   "pygments_lexer": "ipython3",
   "version": "3.12.9"
  }
 },
 "nbformat": 4,
 "nbformat_minor": 5
}
